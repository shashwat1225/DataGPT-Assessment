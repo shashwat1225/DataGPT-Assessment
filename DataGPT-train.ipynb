{
 "cells": [
  {
   "cell_type": "code",
   "execution_count": null,
   "metadata": {},
   "outputs": [],
   "source": [
    "!pip install bitsandbytes"
   ]
  },
  {
   "cell_type": "code",
   "execution_count": null,
   "metadata": {},
   "outputs": [],
   "source": [
    "import torch\n",
    "from transformers import AutoTokenizer, AutoModelForCausalLM, Trainer, TrainingArguments, DataCollatorForLanguageModeling\n",
    "from datasets import load_dataset\n",
    "\n",
    "# Model configuration\n",
    "model_name = \"codellama/CodeLlama-13b-Instruct-hf\"\n",
    "dataset_name = \"bugdaryan/sql-create-context-instruction\"\n",
    "\n",
    "# LoRA configuration\n",
    "lora_config = {\n",
    "    \"lora_r\": 64,\n",
    "    \"lora_alpha\": 16,\n",
    "    \"lora_dropout\": 0.1,\n",
    "}\n",
    "\n",
    "# Training configuration\n",
    "training_config = {\n",
    "    \"num_train_epochs\": 1,\n",
    "    \"per_device_train_batch_size\": 2,\n",
    "    \"per_device_eval_batch_size\": 1,\n",
    "    \"gradient_accumulation_steps\": 1,\n",
    "    \"gradient_checkpointing\": True,\n",
    "    \"max_grad_norm\": 0.3,\n",
    "    \"learning_rate\": 2e-4,\n",
    "    \"weight_decay\": 0.001,\n",
    "    \"optim\": \"adamw_torch\",\n",
    "    \"lr_scheduler_type\": \"cosine\",\n",
    "    \"max_steps\": -1,\n",
    "    \"warmup_ratio\": 0.03,\n",
    "    \"group_by_length\": True,\n",
    "    \"save_steps\": 0,\n",
    "    \"logging_steps\": 25,\n",
    "}\n",
    "\n",
    "# Load the tokenizer and model\n",
    "tokenizer = AutoTokenizer.from_pretrained(model_name)\n",
    "model = AutoModelForCausalLM.from_pretrained(model_name)\n",
    "\n",
    "# Set the pad_token to eos_token\n",
    "tokenizer.pad_token = tokenizer.eos_token\n",
    "\n",
    "# Apply LoRA configuration\n",
    "model.lora_r = lora_config[\"lora_r\"]\n",
    "model.lora_alpha = lora_config[\"lora_alpha\"]\n",
    "model.lora_dropout = lora_config[\"lora_dropout\"]"
   ]
  },
  {
   "cell_type": "code",
   "execution_count": null,
   "metadata": {},
   "outputs": [],
   "source": [
    "# Load the dataset\n",
    "dataset = load_dataset(dataset_name)\n",
    "\n",
    "# Tokenize the dataset\n",
    "def tokenize_function(examples):\n",
    "    return tokenizer(examples[\"text\"], truncation=True, max_length=512)\n",
    "\n",
    "tokenized_dataset = dataset.map(tokenize_function, batched=True, remove_columns=[\"text\"])\n",
    "\n",
    "# Reduce the dataset size to 1/10th\n",
    "train_dataset = tokenized_dataset[\"train\"].select(range(len(tokenized_dataset[\"train\"]) // 10))\n",
    "\n",
    "# Check if the dataset has a \"test\" split\n",
    "if \"test\" in tokenized_dataset:\n",
    "    eval_dataset = tokenized_dataset[\"test\"].select(range(len(tokenized_dataset[\"test\"]) // 10))\n",
    "else:\n",
    "    # If no \"test\" split, use a subset of the \"train\" split for evaluation\n",
    "    eval_dataset = train_dataset.select(range(len(train_dataset) // 10))\n",
    "\n",
    "# Create the data collator\n",
    "data_collator = DataCollatorForLanguageModeling(tokenizer=tokenizer, mlm=False)\n",
    "\n",
    "# Set up the training arguments\n",
    "training_args = TrainingArguments(\n",
    "    output_dir=\"output\",\n",
    "    **training_config\n",
    ")\n",
    "\n",
    "# Create the trainer\n",
    "trainer = Trainer(\n",
    "    model=model,\n",
    "    args=training_args,\n",
    "    train_dataset=train_dataset,\n",
    "    eval_dataset=eval_dataset,\n",
    "    data_collator=data_collator,\n",
    ")"
   ]
  },
  {
   "cell_type": "code",
   "execution_count": null,
   "metadata": {},
   "outputs": [],
   "source": [
    "# Train the model\n",
    "trainer.train()"
   ]
  },
  {
   "cell_type": "code",
   "execution_count": null,
   "metadata": {},
   "outputs": [],
   "source": [
    "# Save the fine-tuned model\n",
    "model.save_pretrained(\"output/Text2sql-Llama2-13b\")"
   ]
  }
 ],
 "metadata": {
  "language_info": {
   "name": "python"
  }
 },
 "nbformat": 4,
 "nbformat_minor": 2
}
